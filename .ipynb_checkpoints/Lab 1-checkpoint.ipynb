{
 "cells": [
  {
   "cell_type": "code",
   "execution_count": 41,
   "metadata": {},
   "outputs": [
    {
     "name": "stdout",
     "output_type": "stream",
     "text": [
      "   Years Experience Employed?  Previous employers Level of Education  \\\n",
      "0                10         Y                   4                 BS   \n",
      "1                 0         N                   0                 BS   \n",
      "2                 7         N                   6                 BS   \n",
      "3                 2         Y                   1                 MS   \n",
      "4                20         N                   2                PhD   \n",
      "5                 0         N                   0                PhD   \n",
      "6                 5         Y                   2                 MS   \n",
      "7                 3         N                   1                 BS   \n",
      "8                15         Y                   5                 BS   \n",
      "9                 0         N                   0                 BS   \n",
      "\n",
      "  Top-tier school Interned Hired  \n",
      "0               N        N     Y  \n",
      "1               Y        Y     Y  \n",
      "2               N        N     N  \n",
      "3               Y        N     Y  \n",
      "4               Y        N     N  \n",
      "5               Y        Y     Y  \n",
      "6               N        Y     Y  \n",
      "7               N        Y     Y  \n",
      "8               N        N     Y  \n",
      "9               N        N     N  \n"
     ]
    }
   ],
   "source": [
    "import pandas as pd\n",
    "import matplotlib.pyplot as plt\n",
    "from sklearn.decomposition import PCA as sklearnPCA\n",
    "\n",
    "df = pd.read_csv(\"PastHires.csv\")\n",
    "\n",
    "# Visualise top 10 rows\n",
    "print(df.head(10))"
   ]
  },
  {
   "cell_type": "code",
   "execution_count": 22,
   "metadata": {},
   "outputs": [
    {
     "name": "stdout",
     "output_type": "stream",
     "text": [
      "    Years Experience Employed?  Previous employers Level of Education  \\\n",
      "4                 20         N                   2                PhD   \n",
      "8                 15         Y                   5                 BS   \n",
      "0                 10         Y                   4                 BS   \n",
      "2                  7         N                   6                 BS   \n",
      "6                  5         Y                   2                 MS   \n",
      "11                 4         Y                   1                 BS   \n",
      "7                  3         N                   1                 BS   \n",
      "3                  2         Y                   1                 MS   \n",
      "10                 1         N                   1                PhD   \n",
      "1                  0         N                   0                 BS   \n",
      "5                  0         N                   0                PhD   \n",
      "9                  0         N                   0                 BS   \n",
      "12                 0         N                   0                PhD   \n",
      "\n",
      "   Top-tier school Interned Hired  \n",
      "4                Y        N     N  \n",
      "8                N        N     Y  \n",
      "0                N        N     Y  \n",
      "2                N        N     N  \n",
      "6                N        Y     Y  \n",
      "11               N        Y     Y  \n",
      "7                N        Y     Y  \n",
      "3                Y        N     Y  \n",
      "10               Y        N     N  \n",
      "1                Y        Y     Y  \n",
      "5                Y        Y     Y  \n",
      "9                N        N     N  \n",
      "12               Y        N     Y  \n"
     ]
    }
   ],
   "source": [
    "# Print list of employees, sorted by Years Experience\n",
    "print(df.sort_values(\"Years Experience\", ascending=False))"
   ]
  },
  {
   "cell_type": "code",
   "execution_count": 23,
   "metadata": {},
   "outputs": [
    {
     "name": "stdout",
     "output_type": "stream",
     "text": [
      "BS     7\n",
      "PhD    4\n",
      "MS     2\n",
      "Name: Level of Education, dtype: int64\n"
     ]
    }
   ],
   "source": [
    "# Use value counts to find the distribution of \"Level of Education\"\n",
    "print(df[\"Level of Education\"].value_counts())"
   ]
  },
  {
   "cell_type": "code",
   "execution_count": 50,
   "metadata": {},
   "outputs": [
    {
     "data": {
      "image/png": "[encoded data removed]",
      "text/plain": [
       "<Figure size 432x288 with 1 Axes>"
      ]
     },
     "metadata": {
      "needs_background": "light"
     },
     "output_type": "display_data"
    }
   ],
   "source": [
    "# Visualise the above result \n",
    "plot1 = df[\"Level of Education\"].value_counts().plot.bar()"
   ]
  },
  {
   "cell_type": "code",
   "execution_count": null,
   "metadata": {},
   "outputs": [],
   "source": []
  }
 ],
 "metadata": {
  "kernelspec": {
   "display_name": "Python 3",
   "language": "python",
   "name": "python3"
  },
  "language_info": {
   "codemirror_mode": {
    "name": "ipython",
    "version": 3
   },
   "file_extension": ".py",
   "mimetype": "text/x-python",
   "name": "python",
   "nbconvert_exporter": "python",
   "pygments_lexer": "ipython3",
   "version": "3.7.4"
  }
 },
 "nbformat": 4,
 "nbformat_minor": 2
}
